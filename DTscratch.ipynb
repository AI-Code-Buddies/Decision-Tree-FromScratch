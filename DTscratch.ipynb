{
  "nbformat": 4,
  "nbformat_minor": 0,
  "metadata": {
    "colab": {
      "provenance": []
    },
    "kernelspec": {
      "name": "python3",
      "display_name": "Python 3"
    },
    "language_info": {
      "name": "python"
    }
  },
  "cells": [
    {
      "cell_type": "markdown",
      "source": [
        "# **بسم الله الرحمن الرحيم**"
      ],
      "metadata": {
        "id": "cxPrg4QtNFqv"
      }
    },
    {
      "cell_type": "markdown",
      "source": [
        "## Lib"
      ],
      "metadata": {
        "id": "KzHSEkwq1O7p"
      }
    },
    {
      "cell_type": "code",
      "source": [
        "import numpy as np\n",
        "from sklearn import metrics\n",
        "from sklearn import datasets\n",
        "import matplotlib.pyplot as plt\n",
        "from sklearn.model_selection import train_test_split"
      ],
      "metadata": {
        "id": "8H7kYcFvxvC6"
      },
      "execution_count": null,
      "outputs": []
    },
    {
      "cell_type": "markdown",
      "source": [
        "## Load Data (breast cancer)"
      ],
      "metadata": {
        "id": "cSW1HHF2xdFQ"
      }
    },
    {
      "cell_type": "code",
      "execution_count": null,
      "metadata": {
        "id": "IMmC4zfiM_0_"
      },
      "outputs": [],
      "source": [
        "data = datasets.load_breast_cancer()\n",
        "x, y = data.data, data.target"
      ]
    },
    {
      "cell_type": "code",
      "source": [
        "x_train, x_test, y_train, y_test = train_test_split(\n",
        "    x, y, test_size=0.2, random_state=1\n",
        ")"
      ],
      "metadata": {
        "id": "jFdRJ9WSx4Kb"
      },
      "execution_count": null,
      "outputs": []
    },
    {
      "cell_type": "markdown",
      "source": [
        "\n",
        "\n",
        "---\n",
        "\n",
        "\n",
        "## Desciosoin Tree"
      ],
      "metadata": {
        "id": "oyR3ti5dx4yj"
      }
    },
    {
      "cell_type": "code",
      "source": [
        "class Node:\n",
        "\n",
        "    def __init__(self, feature=None, threshold=None, left=None, right=None, value=None):\n",
        "        self.feature = feature\n",
        "        self.threshold = threshold\n",
        "        self.left = left\n",
        "        self.right = right\n",
        "        self.value = value\n",
        "    \n",
        "    \n",
        "    def is_leaf(self):\n",
        "      \"\"\"\n",
        "      Function is_leaf checks if the node is a leaf node or not.\n",
        "      :return: True if the node is a leaf (A node is a leaf node if it has a value attribute that is not None).\n",
        "      \"\"\"\n",
        "        \n",
        "        return self.value is not None\n"
      ],
      "metadata": {
        "id": "1hQLYlGnxcXn"
      },
      "execution_count": null,
      "outputs": []
    },
    {
      "cell_type": "code",
      "source": [
        "class MyDecisionTree:\n",
        "\n",
        "    def __init__(self, max_depth=100, min_samples_split=2):\n",
        "        # Initialize the decision tree with the given maximum depth and minimum samples required to split.\n",
        "        self.max_depth = max_depth\n",
        "        self.min_samples_split = min_samples_split\n",
        "        self.root = None  # root node of the decision tree\n",
        "\n",
        "    def _is_finished(self, depth):\n",
        "        # Returns True if the depth of the decision tree exceeds the maximum depth, or if there is only one class label \n",
        "        # left in the samples, or if the number of samples is less than the minimum required to split. \n",
        "        if (depth >= self.max_depth\n",
        "            or self.n_class_labels == 1\n",
        "            or self.n_samples < self.min_samples_split):\n",
        "            return True\n",
        "        return False\n",
        "\n",
        "    def _entropy(self, y):\n",
        "        # Calculates and returns the entropy of the given class labels.\n",
        "        proportions = np.bincount(y) / len(y)\n",
        "        entropy = -np.sum([p * np.log2(p) for p in proportions if p > 0])\n",
        "        return entropy\n",
        "\n",
        "    def _create_split(self, X, thresh):\n",
        "        # Creates a split based on the given threshold value.\n",
        "        # Returns the indices of the samples that belong to the left and right splits.\n",
        "        left_idx = np.argwhere(X <= thresh).flatten()\n",
        "        right_idx = np.argwhere(X > thresh).flatten()\n",
        "        return left_idx, right_idx\n",
        "\n",
        "    def _information_gain(self, X, y, thresh):\n",
        "        # Calculates and returns the information gain achieved by splitting the samples at the given threshold.\n",
        "        parent_loss = self._entropy(y)\n",
        "        left_idx, right_idx = self._create_split(X, thresh)\n",
        "        n, n_left, n_right = len(y), len(left_idx), len(right_idx)\n",
        "\n",
        "        if n_left == 0 or n_right == 0: \n",
        "            return 0\n",
        "        \n",
        "        child_loss = (n_left / n) * self._entropy(y[left_idx]) + (n_right / n) * self._entropy(y[right_idx])\n",
        "        return parent_loss - child_loss\n",
        "\n",
        "    def _best_split(self, X, y, features):\n",
        "        # Finds the best feature and threshold value for splitting the samples based on the maximum information gain.\n",
        "        split = {'score':- 1, 'feat': None, 'thresh': None}\n",
        "\n",
        "        for feat in features:\n",
        "            X_feat = X[:, feat]\n",
        "            thresholds = np.unique(X_feat)\n",
        "            for thresh in thresholds:\n",
        "                score = self._information_gain(X_feat, y, thresh)\n",
        "\n",
        "                if score > split['score']:\n",
        "                    split['score'] = score\n",
        "                    split['feat'] = feat\n",
        "                    split['thresh'] = thresh\n",
        "\n",
        "        return split['feat'], split['thresh']\n",
        "\n",
        "    # Define the `_build_tree` method for recursively building the decision tree\n",
        "    def _build_tree(self, X, y, depth=0):\n",
        "        # Compute the number of samples and features in the input data\n",
        "        self.n_samples, self.n_features = X.shape\n",
        "        # Compute the number of unique class labels in the output data\n",
        "        self.n_class_labels = len(np.unique(y))\n",
        "\n",
        "        # If the depth of the tree exceeds a certain limit, return a leaf node containing the most common class label\n",
        "        if self._is_finished(depth):\n",
        "            most_common_Label = np.argmax(np.bincount(y))\n",
        "            return Node(value=most_common_Label)\n",
        "\n",
        "        # Find the feature and threshold that maximize the information gain for splitting the current node\n",
        "        best_feat, best_thresh = self._best_split(X, y, np.arange(X.shape[1]))\n",
        "\n",
        "        # Create two child nodes by splitting the input data based on the selected feature and threshold\n",
        "        left_idx, right_idx = self._create_split(X[:, best_feat], best_thresh)\n",
        "        left_child = self._build_tree(X[left_idx, :], y[left_idx], depth + 1)\n",
        "        right_child = self._build_tree(X[right_idx, :], y[right_idx], depth + 1)\n",
        "\n",
        "        # Create a new node with the selected feature, threshold, and child nodes\n",
        "        return Node(best_feat, best_thresh, left_child, right_child)\n",
        "\n",
        "\n",
        "    # Define the `_traverse_tree` method for recursively traversing the decision tree to predict the class label of a sample\n",
        "    def _traverse_tree(self, x, node):\n",
        "        # If the current node is a leaf node, return its class label\n",
        "        if node.is_leaf():\n",
        "            return node.value\n",
        "            \n",
        "        # Otherwise, determine which child node to traverse based on the value of the selected feature and threshold\n",
        "        if x[node.feature] <= node.threshold:\n",
        "            return self._traverse_tree(x, node.left)\n",
        "        else:\n",
        "            return self._traverse_tree(x, node.right)\n",
        "        \n",
        "\n",
        "    # Define the `fit` method for building the decision tree using the input features and labels\n",
        "    def fit(self, X, y):\n",
        "        # Use the `_build_tree` method to construct the decision tree and store the root node in the `self.root` attribute\n",
        "        self.root = self._build_tree(X, y)\n",
        "\n",
        "\n",
        "    # Define the `predict` method for predicting the class labels of input samples using the decision tree\n",
        "    def predict(self, X):\n",
        "        # Use the `_traverse_tree` method to traverse the decision tree and predict the class label for each input sample\n",
        "        predictions = [self._traverse_tree(x, self.root) for x in X]\n",
        "        # Return the predicted class labels as a NumPy array\n",
        "        return np.array(predictions)\n"
      ],
      "metadata": {
        "id": "MDCn4doLxi0b"
      },
      "execution_count": null,
      "outputs": []
    },
    {
      "cell_type": "markdown",
      "source": [
        "\n",
        "\n",
        "---\n",
        "\n",
        "## build and train the tree"
      ],
      "metadata": {
        "id": "vtldObGf8Zbt"
      }
    },
    {
      "cell_type": "code",
      "source": [
        "tree = MyDecisionTree()\n",
        "tree.fit(x_train,y_train)"
      ],
      "metadata": {
        "id": "KoVxv8NA8CSU"
      },
      "execution_count": null,
      "outputs": []
    },
    {
      "cell_type": "markdown",
      "source": [
        "## Results"
      ],
      "metadata": {
        "id": "fXXSCXfB2B6c"
      }
    },
    {
      "cell_type": "code",
      "source": [
        "prediction = tree.predict(x_test)"
      ],
      "metadata": {
        "id": "7UDFEmkm8nqH"
      },
      "execution_count": null,
      "outputs": []
    },
    {
      "cell_type": "code",
      "source": [
        "confusion_matrix = metrics.confusion_matrix(y_test, prediction)\n",
        "\n",
        "cm_display = metrics.ConfusionMatrixDisplay(confusion_matrix = confusion_matrix, display_labels = [True, False])\n",
        "\n",
        "\n",
        "cm_display.plot()\n",
        "plt.show()"
      ],
      "metadata": {
        "colab": {
          "base_uri": "https://localhost:8080/",
          "height": 280
        },
        "id": "VfyO_UuV8zYj",
        "outputId": "7cd2346c-eb12-495b-f1ea-5aaa8766bd69"
      },
      "execution_count": null,
      "outputs": [
        {
          "output_type": "display_data",
          "data": {
            "text/plain": [
              "<Figure size 432x288 with 2 Axes>"
            ],
            "image/png": "[encoded data removed]"
          },
          "metadata": {
            "needs_background": "light"
          }
        }
      ]
    },
    {
      "cell_type": "markdown",
      "source": [
        "# **تم بحمدالله**"
      ],
      "metadata": {
        "id": "95SMtwpx_5ZC"
      }
    }
  ]
}